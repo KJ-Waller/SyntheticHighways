{
 "cells": [
  {
   "cell_type": "code",
   "execution_count": 1,
   "id": "c59edab2",
   "metadata": {},
   "outputs": [],
   "source": [
    "%load_ext autoreload\n",
    "%autoreload 2\n",
    "import os\n",
    "os.chdir('../')"
   ]
  },
  {
   "cell_type": "code",
   "execution_count": 2,
   "id": "f44c91f2",
   "metadata": {},
   "outputs": [],
   "source": [
    "from SHDataset import SHDataset"
   ]
  },
  {
   "cell_type": "code",
   "execution_count": 3,
   "id": "b6e605e5",
   "metadata": {},
   "outputs": [],
   "source": [
    "dataset = SHDataset()"
   ]
  },
  {
   "cell_type": "markdown",
   "id": "754b39c6",
   "metadata": {},
   "source": [
    "### Tile w/o Coverage Problem"
   ]
  },
  {
   "cell_type": "markdown",
   "id": "adae2f0f",
   "metadata": {},
   "source": [
    "### Tile w/ Coverage Problem"
   ]
  },
  {
   "cell_type": "markdown",
   "id": "ead19aee",
   "metadata": {},
   "source": []
  }
 ],
 "metadata": {
  "kernelspec": {
   "display_name": "env2",
   "language": "python",
   "name": "env2"
  },
  "language_info": {
   "codemirror_mode": {
    "name": "ipython",
    "version": 3
   },
   "file_extension": ".py",
   "mimetype": "text/x-python",
   "name": "python",
   "nbconvert_exporter": "python",
   "pygments_lexer": "ipython3",
   "version": "3.8.0"
  }
 },
 "nbformat": 4,
 "nbformat_minor": 5
}
