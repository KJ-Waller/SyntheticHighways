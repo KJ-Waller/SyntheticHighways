{
 "cells": [
  {
   "cell_type": "code",
   "execution_count": 1,
   "id": "f8445ee2",
   "metadata": {},
   "outputs": [],
   "source": [
    "%load_ext autoreload\n",
    "%autoreload 2\n",
    "import os\n",
    "os.chdir('../')"
   ]
  },
  {
   "cell_type": "code",
   "execution_count": 2,
   "id": "110d2567",
   "metadata": {},
   "outputs": [],
   "source": [
    "from utils.metrics import *"
   ]
  },
  {
   "cell_type": "raw",
   "id": "f9a75721",
   "metadata": {},
   "source": [
    "step_size = 3\n",
    "steps = 6\n",
    "resample_traj_steps = np.arange(1,(steps*step_size)+1, step_size)\n",
    "\n",
    "plot_results('results_tfreq_exp_wnoise_seed', x='Temporal Sparsity Interval', xlabels=resample_traj_steps, xlabel='Resampling Interval', './old_experimental_results_4')"
   ]
  },
  {
   "cell_type": "code",
   "execution_count": null,
   "id": "b7f41b4e",
   "metadata": {},
   "outputs": [],
   "source": []
  }
 ],
 "metadata": {
  "kernelspec": {
   "display_name": "env2",
   "language": "python",
   "name": "env2"
  },
  "language_info": {
   "codemirror_mode": {
    "name": "ipython",
    "version": 3
   },
   "file_extension": ".py",
   "mimetype": "text/x-python",
   "name": "python",
   "nbconvert_exporter": "python",
   "pygments_lexer": "ipython3",
   "version": "3.8.0"
  }
 },
 "nbformat": 4,
 "nbformat_minor": 5
}
