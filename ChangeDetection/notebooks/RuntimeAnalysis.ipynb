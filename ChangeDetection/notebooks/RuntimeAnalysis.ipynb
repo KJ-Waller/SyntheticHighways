{
 "cells": [
  {
   "cell_type": "code",
   "execution_count": 1,
   "id": "91026939",
   "metadata": {},
   "outputs": [],
   "source": [
    "%load_ext autoreload\n",
    "%autoreload 2\n",
    "import os\n",
    "os.chdir('../')"
   ]
  },
  {
   "cell_type": "code",
   "execution_count": 7,
   "id": "7810d741",
   "metadata": {},
   "outputs": [],
   "source": [
    "from SHDataset import SHDataset\n",
    "from models.rulebased import RulebasedDetector\n",
    "from models.hmm import HMMChangeDetector\n",
    "from models.histogram import HistogramDetector\n",
    "import random\n",
    "import time"
   ]
  },
  {
   "cell_type": "code",
   "execution_count": 4,
   "id": "9bcd9ed7",
   "metadata": {},
   "outputs": [
    {
     "name": "stderr",
     "output_type": "stream",
     "text": [
      "Adding noise to trajectories: 100%|█████████████████████████████████████████████████████████████████████████████████████████████████████████████████████████████████████████████████████████████████████████████████████████████████████████████████████████████████████████████████████████████████████████████████████████████████████████████████████████████████████████████████████████████████████████████████████████| 37659/37659 [00:17<00:00, 2138.14it/s]\n",
      "Adding noise to trajectories: 100%|█████████████████████████████████████████████████████████████████████████████████████████████████████████████████████████████████████████████████████████████████████████████████████████████████████████████████████████████████████████████████████████████████████████████████████████████████████████████████████████████████████████████████████████████████████████████████████████| 37327/37327 [00:17<00:00, 2103.60it/s]\n"
     ]
    }
   ],
   "source": [
    "bbox = (52.335, 52.36, 4.89, 4.92)\n",
    "\n",
    "dataset = SHDataset()\n",
    "G1,T1,G2,T2 = dataset.read_snapshots(0, bbox=bbox)"
   ]
  },
  {
   "cell_type": "code",
   "execution_count": 6,
   "id": "570d319a",
   "metadata": {},
   "outputs": [],
   "source": [
    "num_T = 1000\n",
    "\n",
    "T1['T'] = random.sample(T1['T'], num_T)\n",
    "T2['T'] = random.sample(T2['T'], num_T)"
   ]
  },
  {
   "cell_type": "code",
   "execution_count": null,
   "id": "c6458ca2",
   "metadata": {},
   "outputs": [],
   "source": [
    "rb_det = RulebasedDetector(G1)\n",
    "hmm_det = HMMChangeDetector(G1)\n",
    "hist_det = HistogramDetector(G1, bbox)\n",
    "\n",
    "start = time.time()\n",
    "rb_det.forward(T2['T'])\n",
    "end = time.time()\n",
    "duration = end-start\n",
    "\n",
    "t_per_s = num_T / duration\n",
    "print(f'Rulebased took {duration} seconds to run, {t_per_s}t/s')\n",
    "\n",
    "start = time.time()\n",
    "hmm_det.forward(T2['T'])\n",
    "end = time.time()\n",
    "duration = end-start\n",
    "\n",
    "t_per_s = num_T / duration\n",
    "print(f'HMM took {duration} seconds to run, {t_per_s}t/s')\n",
    "\n",
    "start = time.time()\n",
    "hist_det.forward(T2['T'])\n",
    "end = time.time()\n",
    "duration = end-start\n",
    "\n",
    "t_per_s = num_T / duration\n",
    "print(f'Histogram method took {duration} seconds to run, {t_per_s}t/s')"
   ]
  },
  {
   "cell_type": "code",
   "execution_count": 16,
   "id": "767a197b",
   "metadata": {},
   "outputs": [],
   "source": [
    "def time_methods(bbox=(52.335, 52.36, 4.89, 4.92), num_T=1000):\n",
    "    # Load the dataset\n",
    "    dataset = SHDataset()\n",
    "    G1,T1,G2,T2 = dataset.read_snapshots(0, bbox=bbox)\n",
    "    T1['T'] = random.sample(T1['T'], num_T)\n",
    "    T2['T'] = random.sample(T2['T'], num_T)\n",
    "    \n",
    "    # Instantiate the map invalidation methods\n",
    "    rb_det = RulebasedDetector(G1)\n",
    "    hmm_det = HMMChangeDetector(G1)\n",
    "    hist_det = HistogramDetector(G1, bbox)\n",
    "    \n",
    "    # Run each method and time them, calculating number of trajectories per second\n",
    "    start = time.time()\n",
    "    rb_det.forward(T2['T'])\n",
    "    end = time.time()\n",
    "    duration = end-start\n",
    "\n",
    "    t_per_s = num_T / duration\n",
    "    print(f'Rulebased took {duration} seconds to run, {t_per_s}t/s')\n",
    "\n",
    "    start = time.time()\n",
    "    hmm_det.forward(T2['T'])\n",
    "    end = time.time()\n",
    "    duration = end-start\n",
    "\n",
    "    t_per_s = num_T / duration\n",
    "    print(f'HMM took {duration} seconds to run, {t_per_s}t/s')\n",
    "\n",
    "    start = time.time()\n",
    "    hist_det.forward(T2['T'])\n",
    "    end = time.time()\n",
    "    duration = end-start\n",
    "\n",
    "    t_per_s = num_T / duration\n",
    "    print(f'Histogram method took {duration} seconds to run, {t_per_s}t/s')"
   ]
  },
  {
   "cell_type": "code",
   "execution_count": 17,
   "id": "4000b899",
   "metadata": {},
   "outputs": [
    {
     "name": "stderr",
     "output_type": "stream",
     "text": [
      "Adding noise to trajectories: 100%|█████████████████████████████████████████████████████████████████████████████████████████████████████████████████████████████████████████████████████████████████████████████████████████████████████████████████████████████████████████████████████████████████████████████████████████████████████████████████████████████████████████████████████████████████████████████████████████| 37659/37659 [00:17<00:00, 2140.66it/s]\n",
      "Adding noise to trajectories: 100%|█████████████████████████████████████████████████████████████████████████████████████████████████████████████████████████████████████████████████████████████████████████████████████████████████████████████████████████████████████████████████████████████████████████████████████████████████████████████████████████████████████████████████████████████████████████████████████████| 37327/37327 [00:17<00:00, 2095.04it/s]\n",
      "Running Rule-based Change Detector: 100%|██████████████████████████████████████████████████████████████████████████████████████████████████████████████████████████████████████████████████████████████████████████████████████████████████████████████████████████████████████████████████████████████████████████████████████████████████████████████████████████████████████████████████████████████████████████████████████| 1000/1000 [00:05<00:00, 196.82it/s]\n"
     ]
    },
    {
     "name": "stdout",
     "output_type": "stream",
     "text": [
      "Rulebased took 5.086483955383301 seconds to run, 196.5994602109471t/s\n"
     ]
    },
    {
     "name": "stderr",
     "output_type": "stream",
     "text": [
      "Map matching trajectory: 999/1000: : 1000it [06:29,  2.57it/s]\n"
     ]
    },
    {
     "name": "stdout",
     "output_type": "stream",
     "text": [
      "No matches for 74/1000 trajectories\n",
      "HMM took 389.41451120376587 seconds to run, 2.567957719163521t/s\n"
     ]
    },
    {
     "name": "stderr",
     "output_type": "stream",
     "text": [
      "Running Histogram Change Detector: 100%|██████████████████████████████████████████████████████████████████████████████████████████████████████████████████████████████████████████████████| 1000/1000 [00:00<00:00, 1102.04it/s]\n"
     ]
    },
    {
     "name": "stdout",
     "output_type": "stream",
     "text": [
      "Histogram method took 1.0603721141815186 seconds to run, 943.065162338677t/s\n"
     ]
    }
   ],
   "source": [
    "time_methods()"
   ]
  },
  {
   "cell_type": "code",
   "execution_count": null,
   "id": "391df969",
   "metadata": {},
   "outputs": [],
   "source": []
  }
 ],
 "metadata": {
  "kernelspec": {
   "display_name": "Python 3 (ipykernel)",
   "language": "python",
   "name": "python3"
  },
  "language_info": {
   "codemirror_mode": {
    "name": "ipython",
    "version": 3
   },
   "file_extension": ".py",
   "mimetype": "text/x-python",
   "name": "python",
   "nbconvert_exporter": "python",
   "pygments_lexer": "ipython3",
   "version": "3.8.0"
  }
 },
 "nbformat": 4,
 "nbformat_minor": 5
}
