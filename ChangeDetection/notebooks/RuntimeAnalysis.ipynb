{
 "cells": [
  {
   "cell_type": "code",
   "execution_count": 2,
   "id": "91026939",
   "metadata": {},
   "outputs": [],
   "source": [
    "%load_ext autoreload\n",
    "%autoreload 2\n",
    "import os\n",
    "os.chdir('../')"
   ]
  },
  {
   "cell_type": "code",
   "execution_count": 3,
   "id": "7810d741",
   "metadata": {},
   "outputs": [],
   "source": [
    "from SHDataset import SHDataset\n",
    "from models.rulebased import RulebasedDetector\n",
    "from models.hmm import HMMChangeDetector\n",
    "from models.histogram import HistogramDetector\n",
    "import random\n",
    "import time\n",
    "import numpy as np\n",
    "import pickle5 as pkl"
   ]
  },
  {
   "cell_type": "code",
   "execution_count": 4,
   "id": "767a197b",
   "metadata": {},
   "outputs": [],
   "source": [
    "def time_methods(bbox=(52.335, 52.36, 4.89, 4.92), num_T=1000):\n",
    "    # Load the dataset\n",
    "    dataset = SHDataset(noise=False)\n",
    "    G1,T1,G2,T2 = dataset.read_snapshots(0, bbox=bbox)\n",
    "    T1['T'] = random.sample(T1['T'], num_T)\n",
    "    T2['T'] = random.sample(T2['T'], num_T)\n",
    "    \n",
    "    # Instantiate the map invalidation methods\n",
    "    rb_det = RulebasedDetector(G1)\n",
    "    hmm_det = HMMChangeDetector(G1)\n",
    "    hist_det = HistogramDetector(G1, bbox)\n",
    "    \n",
    "    # Run each method and time them, calculating number of trajectories per second\n",
    "    start = time.time()\n",
    "    rb_det.forward(T2['T'])\n",
    "    end = time.time()\n",
    "    duration_rb = end-start\n",
    "\n",
    "    t_per_s_rb = num_T / duration_rb\n",
    "    print(f'Rulebased took {duration_rb} seconds to run, {t_per_s_rb}t/s')\n",
    "\n",
    "    start = time.time()\n",
    "    hmm_det.forward(T2['T'])\n",
    "    end = time.time()\n",
    "    duration_hmm = end-start\n",
    "\n",
    "    t_per_s_hmm = num_T / duration_hmm\n",
    "    print(f'HMM took {duration_hmm} seconds to run, {t_per_s_hmm}t/s')\n",
    "\n",
    "    start = time.time()\n",
    "    hist_det.forward(T2['T'])\n",
    "    end = time.time()\n",
    "    duration_hist = end-start\n",
    "\n",
    "    t_per_s_hist = num_T / duration_hist\n",
    "    print(f'Histogram method took {duration_hist} seconds to run, {t_per_s_hist}t/s')\n",
    "    \n",
    "    return duration_rb, t_per_s_rb, duration_hmm, t_per_s_hmm, duration_hist, t_per_s_hist"
   ]
  },
  {
   "cell_type": "code",
   "execution_count": null,
   "id": "4000b899",
   "metadata": {},
   "outputs": [
    {
     "name": "stderr",
     "output_type": "stream",
     "text": [
      "Running Rule-based Change Detector: 100%|███████████████████████████████████████████████████████████████████████████████████████████████████████████████████████████████████████████| 300/300 [00:02<00:00, 129.07it/s]\n"
     ]
    },
    {
     "name": "stdout",
     "output_type": "stream",
     "text": [
      "Rulebased took 2.343097686767578 seconds to run, 128.0356349179215t/s\n"
     ]
    },
    {
     "name": "stderr",
     "output_type": "stream",
     "text": [
      "Map matching trajectory: 299/300: : 300it [02:47,  1.79it/s]\n"
     ]
    },
    {
     "name": "stdout",
     "output_type": "stream",
     "text": [
      "No matches for 3/300 trajectories\n",
      "HMM took 167.33732891082764 seconds to run, 1.7927858772017746t/s\n"
     ]
    },
    {
     "name": "stderr",
     "output_type": "stream",
     "text": [
      "Running Histogram Change Detector: 100%|████████████████████████████████████████████████████████████████████████████████████████████████████████████████████████████████████████████| 300/300 [00:00<00:00, 665.00it/s]\n"
     ]
    },
    {
     "name": "stdout",
     "output_type": "stream",
     "text": [
      "Histogram method took 1.1967194080352783 seconds to run, 250.6853302333643t/s\n"
     ]
    },
    {
     "name": "stderr",
     "output_type": "stream",
     "text": [
      "Running Rule-based Change Detector: 100%|███████████████████████████████████████████████████████████████████████████████████████████████████████████████████████████████████████████| 600/600 [00:04<00:00, 127.24it/s]\n"
     ]
    },
    {
     "name": "stdout",
     "output_type": "stream",
     "text": [
      "Rulebased took 4.732029914855957 seconds to run, 126.79547906413943t/s\n"
     ]
    },
    {
     "name": "stderr",
     "output_type": "stream",
     "text": [
      "Map matching trajectory: 599/600: : 600it [05:35,  1.79it/s]\n"
     ]
    },
    {
     "name": "stdout",
     "output_type": "stream",
     "text": [
      "No matches for 7/600 trajectories\n",
      "HMM took 335.8288514614105 seconds to run, 1.7866243397165205t/s\n"
     ]
    },
    {
     "name": "stderr",
     "output_type": "stream",
     "text": [
      "Running Histogram Change Detector: 100%|████████████████████████████████████████████████████████████████████████████████████████████████████████████████████████████████████████████| 600/600 [00:00<00:00, 633.54it/s]\n"
     ]
    },
    {
     "name": "stdout",
     "output_type": "stream",
     "text": [
      "Histogram method took 1.7156720161437988 seconds to run, 349.71719207064984t/s\n"
     ]
    },
    {
     "name": "stderr",
     "output_type": "stream",
     "text": [
      "Running Rule-based Change Detector: 100%|███████████████████████████████████████████████████████████████████████████████████████████████████████████████████████████████████████████| 900/900 [00:07<00:00, 124.82it/s]\n"
     ]
    },
    {
     "name": "stdout",
     "output_type": "stream",
     "text": [
      "Rulebased took 7.229335069656372 seconds to run, 124.49277718189637t/s\n"
     ]
    },
    {
     "name": "stderr",
     "output_type": "stream",
     "text": [
      "Map matching trajectory: 899/900: : 900it [08:46,  1.71it/s]\n"
     ]
    },
    {
     "name": "stdout",
     "output_type": "stream",
     "text": [
      "No matches for 19/900 trajectories\n",
      "HMM took 526.4291462898254 seconds to run, 1.7096317830101777t/s\n"
     ]
    },
    {
     "name": "stderr",
     "output_type": "stream",
     "text": [
      "Running Histogram Change Detector: 100%|████████████████████████████████████████████████████████████████████████████████████████████████████████████████████████████████████████████| 900/900 [00:01<00:00, 665.50it/s]\n"
     ]
    },
    {
     "name": "stdout",
     "output_type": "stream",
     "text": [
      "Histogram method took 2.1129746437072754 seconds to run, 425.93980135082165t/s\n"
     ]
    },
    {
     "name": "stderr",
     "output_type": "stream",
     "text": [
      "Running Rule-based Change Detector: 100%|█████████████████████████████████████████████████████████████████████████████████████████████████████████████████████████████████████████| 1200/1200 [00:09<00:00, 125.74it/s]\n"
     ]
    },
    {
     "name": "stdout",
     "output_type": "stream",
     "text": [
      "Rulebased took 9.561277151107788 seconds to run, 125.50624576978879t/s\n"
     ]
    },
    {
     "name": "stderr",
     "output_type": "stream",
     "text": [
      "Map matching trajectory: 1199/1200: : 1200it [11:37,  1.72it/s]\n"
     ]
    },
    {
     "name": "stdout",
     "output_type": "stream",
     "text": [
      "No matches for 12/1200 trajectories\n",
      "HMM took 697.2509610652924 seconds to run, 1.7210445980118612t/s\n"
     ]
    },
    {
     "name": "stderr",
     "output_type": "stream",
     "text": [
      "Running Histogram Change Detector: 100%|██████████████████████████████████████████████████████████████████████████████████████████████████████████████████████████████████████████| 1200/1200 [00:01<00:00, 690.05it/s]\n"
     ]
    },
    {
     "name": "stdout",
     "output_type": "stream",
     "text": [
      "Histogram method took 2.5023512840270996 seconds to run, 479.54897765944696t/s\n"
     ]
    },
    {
     "name": "stderr",
     "output_type": "stream",
     "text": [
      "Running Rule-based Change Detector: 100%|█████████████████████████████████████████████████████████████████████████████████████████████████████████████████████████████████████████| 1500/1500 [00:11<00:00, 125.37it/s]\n"
     ]
    },
    {
     "name": "stdout",
     "output_type": "stream",
     "text": [
      "Rulebased took 11.983434915542603 seconds to run, 125.17279148856468t/s\n"
     ]
    },
    {
     "name": "stderr",
     "output_type": "stream",
     "text": [
      "Map matching trajectory: 1499/1500: : 1500it [14:08,  1.77it/s]\n"
     ]
    },
    {
     "name": "stdout",
     "output_type": "stream",
     "text": [
      "No matches for 13/1500 trajectories\n",
      "HMM took 848.5951254367828 seconds to run, 1.7676274056228294t/s\n"
     ]
    },
    {
     "name": "stderr",
     "output_type": "stream",
     "text": [
      "Running Histogram Change Detector: 100%|██████████████████████████████████████████████████████████████████████████████████████████████████████████████████████████████████████████| 1500/1500 [00:02<00:00, 671.49it/s]\n"
     ]
    },
    {
     "name": "stdout",
     "output_type": "stream",
     "text": [
      "Histogram method took 3.070218563079834 seconds to run, 488.5645660663657t/s\n"
     ]
    },
    {
     "name": "stderr",
     "output_type": "stream",
     "text": [
      "Running Rule-based Change Detector: 100%|█████████████████████████████████████████████████████████████████████████████████████████████████████████████████████████████████████████| 1800/1800 [00:14<00:00, 126.13it/s]\n"
     ]
    },
    {
     "name": "stdout",
     "output_type": "stream",
     "text": [
      "Rulebased took 14.289823532104492 seconds to run, 125.96376686919872t/s\n"
     ]
    },
    {
     "name": "stderr",
     "output_type": "stream",
     "text": [
      "Map matching trajectory: 1799/1800: : 1800it [17:17,  1.73it/s]\n"
     ]
    },
    {
     "name": "stdout",
     "output_type": "stream",
     "text": [
      "No matches for 32/1800 trajectories\n",
      "HMM took 1037.980689048767 seconds to run, 1.7341363081133692t/s\n"
     ]
    },
    {
     "name": "stderr",
     "output_type": "stream",
     "text": [
      "Running Histogram Change Detector: 100%|██████████████████████████████████████████████████████████████████████████████████████████████████████████████████████████████████████████| 1800/1800 [00:02<00:00, 688.26it/s]\n"
     ]
    },
    {
     "name": "stdout",
     "output_type": "stream",
     "text": [
      "Histogram method took 3.386686325073242 seconds to run, 531.4929778626819t/s\n"
     ]
    },
    {
     "name": "stderr",
     "output_type": "stream",
     "text": [
      "Running Rule-based Change Detector: 100%|█████████████████████████████████████████████████████████████████████████████████████████████████████████████████████████████████████████| 2100/2100 [00:16<00:00, 128.59it/s]\n"
     ]
    },
    {
     "name": "stdout",
     "output_type": "stream",
     "text": [
      "Rulebased took 16.350669860839844 seconds to run, 128.43510497570125t/s\n"
     ]
    },
    {
     "name": "stderr",
     "output_type": "stream",
     "text": [
      "Map matching trajectory: 879/2100: : 879it [08:08,  1.80it/s]"
     ]
    }
   ],
   "source": [
    "def calc_bigO(bbox=None):\n",
    "    T_nums = np.linspace(0,3000, 11, dtype=np.int32)[1:]\n",
    "    rb_tps, hmm_tps, hist_tps = [], [], []\n",
    "\n",
    "    for num_T in T_nums:\n",
    "        _,rb,_,hmm,_,hist = time_methods(bbox, num_T=num_T)\n",
    "        rb_tps.append(rb)\n",
    "        hmm_tps.append(hmm)\n",
    "        hist_tps.append(hist)\n",
    "        \n",
    "    return rb_tps, hmm_tps, hist_tps\n",
    "\n",
    "rb_tps, hmm_tps, hist_tps = calc_bigO()\n",
    "\n",
    "import pickle5 as pkl\n",
    "with open('timings.hdf5', 'w') as f:\n",
    "    pkl.dump((rb_tps, hmm_tps, hist_tps), f)"
   ]
  },
  {
   "cell_type": "code",
   "execution_count": 7,
   "id": "95a647c1",
   "metadata": {},
   "outputs": [
    {
     "name": "stderr",
     "output_type": "stream",
     "text": [
      "Running Rule-based Change Detector: 100%|██████████████████████████████████████████████████████████████████████████████████████████████████████████████████████████████████████████████████| 2100/2100 [00:16<00:00, 125.97it/s]\n"
     ]
    },
    {
     "name": "stdout",
     "output_type": "stream",
     "text": [
      "Rulebased took 16.68752932548523 seconds to run, 125.84247548214796t/s\n"
     ]
    },
    {
     "name": "stderr",
     "output_type": "stream",
     "text": [
      "Map matching trajectory: 2099/2100: : 2100it [19:45,  1.77it/s]\n"
     ]
    },
    {
     "name": "stdout",
     "output_type": "stream",
     "text": [
      "No matches for 33/2100 trajectories\n",
      "HMM took 1186.0232498645782 seconds to run, 1.7706229622731096t/s\n"
     ]
    },
    {
     "name": "stderr",
     "output_type": "stream",
     "text": [
      "Running Histogram Change Detector: 100%|███████████████████████████████████████████████████████████████████████████████████████████████████████████████████████████████████████████████████| 2100/2100 [00:03<00:00, 698.40it/s]\n"
     ]
    },
    {
     "name": "stdout",
     "output_type": "stream",
     "text": [
      "Histogram method took 3.7783353328704834 seconds to run, 555.8003234203632t/s\n"
     ]
    },
    {
     "name": "stderr",
     "output_type": "stream",
     "text": [
      "Running Rule-based Change Detector: 100%|██████████████████████████████████████████████████████████████████████████████████████████████████████████████████████████████████████████████████| 2400/2400 [00:18<00:00, 126.94it/s]\n"
     ]
    },
    {
     "name": "stdout",
     "output_type": "stream",
     "text": [
      "Rulebased took 18.92776393890381 seconds to run, 126.79786200561601t/s\n"
     ]
    },
    {
     "name": "stderr",
     "output_type": "stream",
     "text": [
      "Map matching trajectory: 2399/2400: : 2400it [22:27,  1.78it/s]\n"
     ]
    },
    {
     "name": "stdout",
     "output_type": "stream",
     "text": [
      "No matches for 28/2400 trajectories\n",
      "HMM took 1347.1871190071106 seconds to run, 1.7814897174557476t/s\n"
     ]
    },
    {
     "name": "stderr",
     "output_type": "stream",
     "text": [
      "Running Histogram Change Detector: 100%|███████████████████████████████████████████████████████████████████████████████████████████████████████████████████████████████████████████████████| 2400/2400 [00:03<00:00, 683.03it/s]\n"
     ]
    },
    {
     "name": "stdout",
     "output_type": "stream",
     "text": [
      "Histogram method took 4.28145956993103 seconds to run, 560.5565020058478t/s\n"
     ]
    },
    {
     "name": "stderr",
     "output_type": "stream",
     "text": [
      "Running Rule-based Change Detector: 100%|██████████████████████████████████████████████████████████████████████████████████████████████████████████████████████████████████████████████████| 2700/2700 [00:21<00:00, 127.83it/s]\n"
     ]
    },
    {
     "name": "stdout",
     "output_type": "stream",
     "text": [
      "Rulebased took 21.141798973083496 seconds to run, 127.70909436029935t/s\n"
     ]
    },
    {
     "name": "stderr",
     "output_type": "stream",
     "text": [
      "Map matching trajectory: 2699/2700: : 2700it [25:36,  1.76it/s]\n"
     ]
    },
    {
     "name": "stdout",
     "output_type": "stream",
     "text": [
      "No matches for 43/2700 trajectories\n",
      "HMM took 1536.5081419944763 seconds to run, 1.757231169953479t/s\n"
     ]
    },
    {
     "name": "stderr",
     "output_type": "stream",
     "text": [
      "Running Histogram Change Detector: 100%|███████████████████████████████████████████████████████████████████████████████████████████████████████████████████████████████████████████████████| 2700/2700 [00:03<00:00, 701.01it/s]\n"
     ]
    },
    {
     "name": "stdout",
     "output_type": "stream",
     "text": [
      "Histogram method took 4.625916242599487 seconds to run, 583.6681553237034t/s\n"
     ]
    },
    {
     "name": "stderr",
     "output_type": "stream",
     "text": [
      "Running Rule-based Change Detector: 100%|██████████████████████████████████████████████████████████████████████████████████████████████████████████████████████████████████████████████████| 3000/3000 [00:23<00:00, 125.78it/s]\n"
     ]
    },
    {
     "name": "stdout",
     "output_type": "stream",
     "text": [
      "Rulebased took 23.869268894195557 seconds to run, 125.6846203919354t/s\n"
     ]
    },
    {
     "name": "stderr",
     "output_type": "stream",
     "text": [
      "Map matching trajectory: 2999/3000: : 3000it [28:33,  1.75it/s]\n"
     ]
    },
    {
     "name": "stdout",
     "output_type": "stream",
     "text": [
      "No matches for 38/3000 trajectories\n",
      "HMM took 1713.999920129776 seconds to run, 1.7502917968472567t/s\n"
     ]
    },
    {
     "name": "stderr",
     "output_type": "stream",
     "text": [
      "Running Histogram Change Detector: 100%|███████████████████████████████████████████████████████████████████████████████████████████████████████████████████████████████████████████████████| 3000/3000 [00:04<00:00, 694.58it/s]\n"
     ]
    },
    {
     "name": "stdout",
     "output_type": "stream",
     "text": [
      "Histogram method took 5.095978260040283 seconds to run, 588.6995287095839t/s\n"
     ]
    },
    {
     "ename": "TypeError",
     "evalue": "write() argument must be str, not bytes",
     "output_type": "error",
     "traceback": [
      "\u001b[0;31m---------------------------------------------------------------------------\u001b[0m",
      "\u001b[0;31mTypeError\u001b[0m                                 Traceback (most recent call last)",
      "Input \u001b[0;32mIn [7]\u001b[0m, in \u001b[0;36m<cell line: 16>\u001b[0;34m()\u001b[0m\n\u001b[1;32m     15\u001b[0m \u001b[38;5;28;01mimport\u001b[39;00m \u001b[38;5;21;01mpickle5\u001b[39;00m \u001b[38;5;28;01mas\u001b[39;00m \u001b[38;5;21;01mpkl\u001b[39;00m\n\u001b[1;32m     16\u001b[0m \u001b[38;5;28;01mwith\u001b[39;00m \u001b[38;5;28mopen\u001b[39m(\u001b[38;5;124m'\u001b[39m\u001b[38;5;124mtimings.hdf5\u001b[39m\u001b[38;5;124m'\u001b[39m, \u001b[38;5;124m'\u001b[39m\u001b[38;5;124mw\u001b[39m\u001b[38;5;124m'\u001b[39m) \u001b[38;5;28;01mas\u001b[39;00m f:\n\u001b[0;32m---> 17\u001b[0m     \u001b[43mpkl\u001b[49m\u001b[38;5;241;43m.\u001b[39;49m\u001b[43mdump\u001b[49m\u001b[43m(\u001b[49m\u001b[43m(\u001b[49m\u001b[43mrb_tps\u001b[49m\u001b[43m,\u001b[49m\u001b[43m \u001b[49m\u001b[43mhmm_tps\u001b[49m\u001b[43m,\u001b[49m\u001b[43m \u001b[49m\u001b[43mhist_tps\u001b[49m\u001b[43m)\u001b[49m\u001b[43m,\u001b[49m\u001b[43m \u001b[49m\u001b[43mf\u001b[49m\u001b[43m)\u001b[49m\n",
      "\u001b[0;31mTypeError\u001b[0m: write() argument must be str, not bytes"
     ]
    }
   ],
   "source": [
    "def calc_bigO(bbox=None):\n",
    "    T_nums = np.linspace(0,3000, 11, dtype=np.int32)[7:]\n",
    "    rb_tps, hmm_tps, hist_tps = [], [], []\n",
    "\n",
    "    for num_T in T_nums:\n",
    "        _,rb,_,hmm,_,hist = time_methods(bbox, num_T=num_T)\n",
    "        rb_tps.append(rb)\n",
    "        hmm_tps.append(hmm)\n",
    "        hist_tps.append(hist)\n",
    "        \n",
    "    return rb_tps, hmm_tps, hist_tps\n",
    "\n",
    "rb_tps, hmm_tps, hist_tps = calc_bigO()\n",
    "\n",
    "import pickle5 as pkl\n",
    "with open('timings.hdf5', 'w') as f:\n",
    "    pkl.dump((rb_tps, hmm_tps, hist_tps), f)"
   ]
  },
  {
   "cell_type": "code",
   "execution_count": 5,
   "id": "44e3d3c6",
   "metadata": {},
   "outputs": [],
   "source": [
    "rb_tps = [\n",
    "    128.0356349179215,\n",
    "    126.79547906413943,\n",
    "    124.49277718189637,\n",
    "    125.50624576978879,\n",
    "    125.17279148856468,\n",
    "    125.96376686919872,\n",
    "    128.43510497570125,\n",
    "    125.84247548214796,\n",
    "    126.7978620056160,\n",
    "    127.70909436029935,\n",
    "    125.6846203919354\n",
    "]\n",
    "\n",
    "rb_runtimes = [\n",
    "    2.343097686767578,\n",
    "    4.732029914855957,\n",
    "    7.229335069656372,\n",
    "    9.561277151107788,\n",
    "    11.983434915542603,\n",
    "    14.289823532104492,\n",
    "    16.350669860839844,\n",
    "    16.68752932548523,\n",
    "    18.92776393890381,\n",
    "    23.869268894195557\n",
    "]\n",
    "\n",
    "hmm_tps = [\n",
    "    1.7927858772017746,\n",
    "    1.7866243397165205,\n",
    "    1.7096317830101777,\n",
    "    1.7210445980118612,\n",
    "    1.7676274056228294,\n",
    "    1.7341363081133692,\n",
    "    \n",
    "]\n",
    "\n",
    "hmm_runtimes = [\n",
    "    167.33732891082764,\n",
    "    335.8288514614105,\n",
    "    526.4291462898254,\n",
    "    697.2509610652924,\n",
    "    848.5951254367828,\n",
    "    1037.980689048767,\n",
    "    1186.0232498645782,\n",
    "    1347.1871190071106,\n",
    "    1536.5081419944763,\n",
    "    1713.999920129776\n",
    "]\n",
    "\n",
    "hist_tps = [\n",
    "    250.7,\n",
    "    349.72,\n",
    "    425.94,\n",
    "    479.55,\n",
    "    488.57,\n",
    "    531.49,\n",
    "    555.8,\n",
    "    560.56,\n",
    "    583.67,\n",
    "    588.7,\n",
    "]\n",
    "\n",
    "hist_runtimes = [\n",
    "    1.1967194080352783,\n",
    "    1.7156720161437988,\n",
    "    2.1129746437072754,\n",
    "    2.5023512840270996,\n",
    "    3.070218563079834,\n",
    "    3.386686325073242,\n",
    "    3.7783353328704834,\n",
    "    4.28145956993103,\n",
    "    4.625916242599487,\n",
    "    5.095978260040283\n",
    "]"
   ]
  },
  {
   "cell_type": "code",
   "execution_count": 43,
   "id": "7ab2cea7",
   "metadata": {},
   "outputs": [
    {
     "data": {
      "image/png": "[encoded data removed]",
      "text/plain": [
       "<Figure size 432x288 with 1 Axes>"
      ]
     },
     "metadata": {
      "needs_background": "light"
     },
     "output_type": "display_data"
    }
   ],
   "source": [
    "import matplotlib.pyplot as plt\n",
    "\n",
    "# plt.rcParams['text.usetex'] = True\n",
    "\n",
    "def plot_timecomplexity_hist():\n",
    "\n",
    "    hist_tps = [\n",
    "        250.7,\n",
    "        349.72,\n",
    "        425.94,\n",
    "        479.55,\n",
    "        488.57,\n",
    "        531.49,\n",
    "        555.8,\n",
    "        560.56,\n",
    "        583.67,\n",
    "        588.7,\n",
    "    ]\n",
    "\n",
    "    T_nums = np.linspace(0,3000, 11, dtype=np.int32)[1:]\n",
    "    hist_tps = np.array(hist_tps)\n",
    "#     plt.plot(T_nums, (hist_tps/150)+4, label='Histogram Method', marker='x')\n",
    "#     plt.plot(T_nums, np.log(T_nums), label='O(log|T|)')\n",
    "    \n",
    "    plt.plot(T_nums, hist_tps, label='Histogram Method', marker='x')\n",
    "    plt.plot(T_nums, 150*np.log(T_nums)-600, label='O(log|T|)')\n",
    "    # plt.plot(T_nums, 150*np.log(T_nums)-600, label='$150 O(\\log{|T|})$')\n",
    "    plt.xlabel('# of trajectories')\n",
    "    plt.ylabel('Time (seconds)')\n",
    "    plt.legend()\n",
    "    plt.show()\n",
    "    \n",
    "plot_timecomplexity_hist()"
   ]
  },
  {
   "cell_type": "code",
   "execution_count": null,
   "id": "9412dc16",
   "metadata": {},
   "outputs": [],
   "source": []
  }
 ],
 "metadata": {
  "kernelspec": {
   "display_name": "Python 3 (ipykernel)",
   "language": "python",
   "name": "python3"
  },
  "language_info": {
   "codemirror_mode": {
    "name": "ipython",
    "version": 3
   },
   "file_extension": ".py",
   "mimetype": "text/x-python",
   "name": "python",
   "nbconvert_exporter": "python",
   "pygments_lexer": "ipython3",
   "version": "3.8.0"
  }
 },
 "nbformat": 4,
 "nbformat_minor": 5
}
