{
 "cells": [
  {
   "cell_type": "code",
   "execution_count": 1,
   "id": "aab5bab0",
   "metadata": {},
   "outputs": [],
   "source": [
    "%load_ext autoreload\n",
    "%autoreload 2\n",
    "import os\n",
    "os.chdir('../')"
   ]
  },
  {
   "cell_type": "code",
   "execution_count": 2,
   "id": "be364479",
   "metadata": {},
   "outputs": [],
   "source": [
    "from SHDataset import SHDataset\n",
    "from utils.utils import *\n",
    "import os\n",
    "import random\n",
    "import numpy as np\n",
    "from tqdm import tqdm"
   ]
  },
  {
   "cell_type": "code",
   "execution_count": 14,
   "id": "d11ac9d0",
   "metadata": {},
   "outputs": [],
   "source": [
    "\n",
    "def measure_noise_t(t, t_):\n",
    "    t = np.stack([t['lat'].view('f8'), t['lon'].view('f8')], axis=1)\n",
    "    t_ = np.stack([t_['lat'].view('f8'), t_['lon'].view('f8')], axis=1)\n",
    "    _, _, dists = geodesic.inv(t[:,1], t[:,0], t_[:,1], t_[:,0])\n",
    "    t_diff = t - t_\n",
    "    t_diff = np.linalg.norm(t_diff, axis=1)\n",
    "    return dists, t_diff\n",
    "\n",
    "def measure_noise():\n",
    "    dataset_nonoise = SHDataset(noise=False)\n",
    "    G1,T1,G2,T2 = dataset_nonoise.read_snapshots(0)\n",
    "    \n",
    "    results = []\n",
    "    \n",
    "    for i in range(4):\n",
    "        dataset = SHDataset(noise=True, noise_config=i)\n",
    "        G1_,T1_,G2_,T2_ = dataset.read_snapshots(0)\n",
    "        \n",
    "        noise = []\n",
    "        \n",
    "        for j in tqdm(range(len(T2['T']))):\n",
    "            t = T2['T'][j]\n",
    "            t_ = T2_['T'][j]\n",
    "            dists, _ = measure_noise_t(t, t_)\n",
    "            noise.append(np.mean(dists))\n",
    "        \n",
    "        results.append({\n",
    "            'config': i,\n",
    "            'noise': np.mean(noise)\n",
    "        })\n",
    "        print(f'Dataset noise config {i} has noise {np.mean(noise)}')"
   ]
  },
  {
   "cell_type": "code",
   "execution_count": 15,
   "id": "185404df",
   "metadata": {},
   "outputs": [
    {
     "name": "stderr",
     "output_type": "stream",
     "text": [
      "100%|███████████████████████████████████████████████████████████████████████████████████████████████████████████████████| 89079/89079 [00:07<00:00, 11749.59it/s]\n"
     ]
    },
    {
     "name": "stdout",
     "output_type": "stream",
     "text": [
      "Dataset noise config 0 has noise 2.330016893239264\n"
     ]
    },
    {
     "name": "stderr",
     "output_type": "stream",
     "text": [
      "100%|███████████████████████████████████████████████████████████████████████████████████████████████████████████████████| 89079/89079 [00:07<00:00, 12016.19it/s]\n"
     ]
    },
    {
     "name": "stdout",
     "output_type": "stream",
     "text": [
      "Dataset noise config 1 has noise 6.983156906196647\n"
     ]
    },
    {
     "name": "stderr",
     "output_type": "stream",
     "text": [
      "100%|███████████████████████████████████████████████████████████████████████████████████████████████████████████████████| 89079/89079 [00:07<00:00, 12072.19it/s]\n"
     ]
    },
    {
     "name": "stdout",
     "output_type": "stream",
     "text": [
      "Dataset noise config 2 has noise 11.655399474293942\n"
     ]
    },
    {
     "name": "stderr",
     "output_type": "stream",
     "text": [
      "100%|███████████████████████████████████████████████████████████████████████████████████████████████████████████████████| 89079/89079 [00:07<00:00, 12043.22it/s]\n"
     ]
    },
    {
     "name": "stdout",
     "output_type": "stream",
     "text": [
      "Dataset noise config 3 has noise 16.320815115255055\n"
     ]
    }
   ],
   "source": [
    "measure_noise()"
   ]
  },
  {
   "cell_type": "code",
   "execution_count": null,
   "id": "6c15d1b8",
   "metadata": {},
   "outputs": [],
   "source": []
  }
 ],
 "metadata": {
  "kernelspec": {
   "display_name": "env2",
   "language": "python",
   "name": "env2"
  },
  "language_info": {
   "codemirror_mode": {
    "name": "ipython",
    "version": 3
   },
   "file_extension": ".py",
   "mimetype": "text/x-python",
   "name": "python",
   "nbconvert_exporter": "python",
   "pygments_lexer": "ipython3",
   "version": "3.8.0"
  }
 },
 "nbformat": 4,
 "nbformat_minor": 5
}
