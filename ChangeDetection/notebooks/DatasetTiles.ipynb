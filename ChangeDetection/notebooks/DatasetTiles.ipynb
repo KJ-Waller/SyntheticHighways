{
 "cells": [
  {
   "cell_type": "code",
   "execution_count": 1,
   "id": "7327d2fc",
   "metadata": {},
   "outputs": [],
   "source": [
    "%load_ext autoreload\n",
    "%autoreload 2\n",
    "import os\n",
    "os.chdir('../')"
   ]
  },
  {
   "cell_type": "code",
   "execution_count": 2,
   "id": "8f200a8f",
   "metadata": {},
   "outputs": [],
   "source": [
    "from SHDataset import SHDataset"
   ]
  },
  {
   "cell_type": "code",
   "execution_count": 3,
   "id": "95d91f7f",
   "metadata": {},
   "outputs": [],
   "source": [
    "dataset = SHDataset()"
   ]
  },
  {
   "cell_type": "markdown",
   "id": "a06135da",
   "metadata": {},
   "source": [
    "### Tiles w/o Coverage Problem"
   ]
  },
  {
   "cell_type": "code",
   "execution_count": null,
   "id": "d84dad5b",
   "metadata": {},
   "outputs": [],
   "source": [
    "bbox_train = \n",
    "bbox_test = \n",
    "dataset.read_snapshots(0, )"
   ]
  },
  {
   "cell_type": "markdown",
   "id": "06da713c",
   "metadata": {},
   "source": [
    "### Tiles w/ Coverage Problem"
   ]
  },
  {
   "cell_type": "markdown",
   "id": "adc6d82d",
   "metadata": {},
   "source": []
  }
 ],
 "metadata": {
  "kernelspec": {
   "display_name": "env2",
   "language": "python",
   "name": "env2"
  },
  "language_info": {
   "codemirror_mode": {
    "name": "ipython",
    "version": 3
   },
   "file_extension": ".py",
   "mimetype": "text/x-python",
   "name": "python",
   "nbconvert_exporter": "python",
   "pygments_lexer": "ipython3",
   "version": "3.8.0"
  }
 },
 "nbformat": 4,
 "nbformat_minor": 5
}
